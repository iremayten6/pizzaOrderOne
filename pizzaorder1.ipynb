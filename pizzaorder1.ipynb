{
  "nbformat": 4,
  "nbformat_minor": 0,
  "metadata": {
    "colab": {
      "provenance": []
    },
    "kernelspec": {
      "name": "python3",
      "display_name": "Python 3"
    },
    "language_info": {
      "name": "python"
    }
  },
  "cells": [
    {
      "cell_type": "code",
      "execution_count": null,
      "metadata": {
        "colab": {
          "base_uri": "https://localhost:8080/"
        },
        "id": "Br_CaCH9QgOe",
        "outputId": "ad96f2a2-bd54-44dc-c03f-f5a70240fa3e"
      },
      "outputs": [
        {
          "output_type": "stream",
          "name": "stdout",
          "text": [
            "Your Order:\n",
            "\n",
            "- small pizza with cheese, pepperoni\n",
            "- medium pizza with sausage, mushrooms, onions\n",
            "- large pizza with ham, corn, green peppers\n",
            "- Xlarge pizza with cheese, mushrooms, corn, sausage, pepperoni, bacon\n",
            "\n",
            "Total Price: 420 TL\n"
          ]
        }
      ],
      "source": [
        "class Pizza:\n",
        "    def __init__(self, size, toppings, price):\n",
        "        self.size = size\n",
        "        self.toppings = toppings\n",
        "        self.price = price\n",
        "    \n",
        "    def get_size(self):\n",
        "        return self.size\n",
        "    \n",
        "    def get_toppings(self):\n",
        "        return self.toppings\n",
        "    \n",
        "    def get_price(self):\n",
        "        return self.price\n",
        "    \n",
        "class PizzaOrder:\n",
        "    def __init__(self):\n",
        "        self.pizzas = []\n",
        "    \n",
        "    def add_pizza(self, pizza):\n",
        "        self.pizzas.append(pizza)\n",
        "    \n",
        "    def remove_pizza(self, pizza):\n",
        "        self.pizzas.remove(pizza)\n",
        "    \n",
        "    def calculate_total(self):\n",
        "        total = 0\n",
        "        for pizza in self.pizzas:\n",
        "            total += pizza.get_price()\n",
        "        return total\n",
        "pizza1 = Pizza(\"small\", [\"cheese\", \"pepperoni\"], 80)\n",
        "pizza2 = Pizza(\"medium\", [\"sausage\", \"mushrooms\", \"onions\"], 90)\n",
        "pizza3 = Pizza(\"large\", [\"ham\", \"corn\", \"green peppers\"], 100)\n",
        "pizza4 = Pizza(\"Xlarge\",[\"cheese\",\"mushrooms\",\"corn\",\"sausage\",\"pepperoni\",\"bacon\"],150)\n",
        "\n",
        "order = PizzaOrder()\n",
        "order.add_pizza(pizza1)\n",
        "order.add_pizza(pizza2)\n",
        "order.add_pizza(pizza3)\n",
        "order.add_pizza(pizza4)\n",
        "\n",
        "print(\"Your Order:\")\n",
        "print(\"\")\n",
        "for pizza in order.pizzas:\n",
        "    print(\"- \" + pizza.get_size() + \" pizza with \" + \", \".join(pizza.get_toppings()))\n",
        "\n",
        "total_price = order.calculate_total()\n",
        "print(\"\")\n",
        "print(\"Total Price: \" + str(total_price) + \" TL\")\n"
      ]
    }
  ]
}